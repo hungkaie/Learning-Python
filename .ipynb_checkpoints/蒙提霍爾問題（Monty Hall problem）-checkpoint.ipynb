{
 "cells": [
  {
   "cell_type": "code",
   "execution_count": 1,
   "metadata": {},
   "outputs": [],
   "source": [
    "%matplotlib inline\n",
    "import numpy as np\n",
    "import matplotlib.pyplot as plt"
   ]
  },
  {
   "cell_type": "markdown",
   "metadata": {},
   "source": [
    "# 遊戲規則  \n",
    "..."
   ]
  },
  {
   "cell_type": "markdown",
   "metadata": {},
   "source": [
    "## 假設有三道門 A, B, C"
   ]
  },
  {
   "cell_type": "code",
   "execution_count": 2,
   "metadata": {},
   "outputs": [],
   "source": [
    "doors = ['A','B','C']"
   ]
  },
  {
   "cell_type": "markdown",
   "metadata": {},
   "source": [
    "## 我們假設參賽者選擇這三道門的機率都一樣"
   ]
  },
  {
   "cell_type": "code",
   "execution_count": 3,
   "metadata": {},
   "outputs": [],
   "source": [
    "pro = [1/3,1/3,1/3]"
   ]
  },
  {
   "cell_type": "markdown",
   "metadata": {},
   "source": [
    "## 做1000次實驗看換門中獎的機率為多少?"
   ]
  },
  {
   "cell_type": "code",
   "execution_count": 19,
   "metadata": {},
   "outputs": [
    {
     "name": "stdout",
     "output_type": "stream",
     "text": [
      "p = 0.66625\n"
     ]
    }
   ],
   "source": [
    "n = 0 \n",
    "bingo = 0  #中獎次數\n",
    "\n",
    "while n < 4000:  #實驗1000次\n",
    "    t = np.random.choice(doors, p = pro)  #有獎品的門\n",
    "    c = np.random.choice(doors, p = pro)  #參賽者第一次所選的門\n",
    "    \n",
    "    door = doors.copy()    \n",
    "    door.remove(t)  #沒獎品的門\n",
    "    if c in door:\n",
    "        door.remove(c)  #沒獎品又非參賽者所選的門    \n",
    "    o = np.random.choice(door) #被打開的門\n",
    "    \n",
    "    door = doors.copy()\n",
    "    door.remove(c)  #非參賽者第一次所選的門\n",
    "    door.remove(o)  #非參賽者第一次所選且未開的門\n",
    "    cc = np.random.choice(door)  #參賽者第二次所選的門\n",
    "    \n",
    "    if cc == t:\n",
    "        bingo += 1  #換門中獎\n",
    "    n += 1\n",
    "    \n",
    "print(f\"p = {bingo/n}\")"
   ]
  },
  {
   "cell_type": "code",
   "execution_count": null,
   "metadata": {},
   "outputs": [],
   "source": []
  },
  {
   "cell_type": "code",
   "execution_count": null,
   "metadata": {},
   "outputs": [],
   "source": []
  },
  {
   "cell_type": "code",
   "execution_count": null,
   "metadata": {},
   "outputs": [],
   "source": []
  },
  {
   "cell_type": "code",
   "execution_count": 15,
   "metadata": {},
   "outputs": [
    {
     "name": "stdout",
     "output_type": "stream",
     "text": [
      "p = 0.4918571428571429, number of trail is 7000\n"
     ]
    }
   ],
   "source": [
    "n = 0 \n",
    "m = 0 #符合假設的事件數目\n",
    "bingo = 0  #中獎次數\n",
    "\n",
    "while m < 7000:  #實驗1000次\n",
    "    t = doors[0]  #有獎品的門\n",
    "    c = np.random.choice(doors, p = pro)  #參賽者第一次所選的門\n",
    "    o = np.random.choice(doors, p = pro)  #隨機打開的門\n",
    "    \n",
    "    if (o == t) or (o == c):\n",
    "        pass\n",
    "    else:\n",
    "        m += 1  #換門中獎\n",
    "        door = doors.copy()\n",
    "        door.remove(c)  #非參賽者第一次所選的門\n",
    "        door.remove(o)  #非參賽者第一次所選且未開的門\n",
    "        cc = np.random.choice(door)  #參賽者第二次所選的門\n",
    "        if cc == t:\n",
    "            bingo += 1  #換門中獎\n",
    "    n += 1\n",
    "    \n",
    "print(f\"p = {bingo/m}, number of trail is {m}\")"
   ]
  },
  {
   "cell_type": "code",
   "execution_count": 32,
   "metadata": {},
   "outputs": [],
   "source": [
    "def findp(n):\n",
    "    m = 0 #符合假設的事件數目\n",
    "    bingo = 0  #中獎次數\n",
    "\n",
    "    while m < n:  #實驗1000次\n",
    "        t = doors[0]  #有獎品的門\n",
    "        c = np.random.choice(doors, p = pro)  #參賽者第一次所選的門\n",
    "        o = np.random.choice(doors, p = pro)  #隨機打開的門\n",
    "    \n",
    "        if (o == t) or (o == c):\n",
    "            pass\n",
    "        else:\n",
    "            m += 1  #換門中獎\n",
    "            door = doors.copy()\n",
    "            door.remove(c)  #非參賽者第一次所選的門\n",
    "            door.remove(o)  #非參賽者第一次所選且未開的門\n",
    "            cc = np.random.choice(door)  #參賽者第二次所選的門\n",
    "            if cc == t:\n",
    "                bingo += 1  #換門中獎\n",
    "    return bingo/n"
   ]
  },
  {
   "cell_type": "code",
   "execution_count": null,
   "metadata": {},
   "outputs": [],
   "source": [
    "x = [100*y for y in range(100,2000,100)]\n",
    "y = list(map(findp,x))\n"
   ]
  },
  {
   "cell_type": "code",
   "execution_count": 28,
   "metadata": {},
   "outputs": [
    {
     "data": {
      "text/plain": [
       "<map at 0x2816a216c88>"
      ]
     },
     "execution_count": 28,
     "metadata": {},
     "output_type": "execute_result"
    }
   ],
   "source": [
    "y"
   ]
  },
  {
   "cell_type": "code",
   "execution_count": null,
   "metadata": {},
   "outputs": [],
   "source": []
  }
 ],
 "metadata": {
  "kernelspec": {
   "display_name": "Python 3",
   "language": "python",
   "name": "python3"
  },
  "language_info": {
   "codemirror_mode": {
    "name": "ipython",
    "version": 3
   },
   "file_extension": ".py",
   "mimetype": "text/x-python",
   "name": "python",
   "nbconvert_exporter": "python",
   "pygments_lexer": "ipython3",
   "version": "3.6.6"
  }
 },
 "nbformat": 4,
 "nbformat_minor": 2
}
